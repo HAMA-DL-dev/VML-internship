{
  "nbformat": 4,
  "nbformat_minor": 0,
  "metadata": {
    "accelerator": "GPU",
    "colab": {
      "name": "Transfer learning.ipynb",
      "provenance": [],
      "collapsed_sections": [],
      "authorship_tag": "ABX9TyPEX5u+660iDuXb2XOsqoXf",
      "include_colab_link": true
    },
    "kernelspec": {
      "display_name": "Python 3",
      "name": "python3"
    },
    "widgets": {
      "application/vnd.jupyter.widget-state+json": {
        "30490c18fb364715a246bee839bdd7ce": {
          "model_module": "@jupyter-widgets/controls",
          "model_name": "HBoxModel",
          "state": {
            "_view_name": "HBoxView",
            "_dom_classes": [],
            "_model_name": "HBoxModel",
            "_view_module": "@jupyter-widgets/controls",
            "_model_module_version": "1.5.0",
            "_view_count": null,
            "_view_module_version": "1.5.0",
            "box_style": "",
            "layout": "IPY_MODEL_3af111aa395649518ff0437eb776cf04",
            "_model_module": "@jupyter-widgets/controls",
            "children": [
              "IPY_MODEL_d50914d4b02d4a86b65753696b6436cc",
              "IPY_MODEL_3f3a015d467347f2aecbd6930e823c78"
            ]
          }
        },
        "3af111aa395649518ff0437eb776cf04": {
          "model_module": "@jupyter-widgets/base",
          "model_name": "LayoutModel",
          "state": {
            "_view_name": "LayoutView",
            "grid_template_rows": null,
            "right": null,
            "justify_content": null,
            "_view_module": "@jupyter-widgets/base",
            "overflow": null,
            "_model_module_version": "1.2.0",
            "_view_count": null,
            "flex_flow": null,
            "width": null,
            "min_width": null,
            "border": null,
            "align_items": null,
            "bottom": null,
            "_model_module": "@jupyter-widgets/base",
            "top": null,
            "grid_column": null,
            "overflow_y": null,
            "overflow_x": null,
            "grid_auto_flow": null,
            "grid_area": null,
            "grid_template_columns": null,
            "flex": null,
            "_model_name": "LayoutModel",
            "justify_items": null,
            "grid_row": null,
            "max_height": null,
            "align_content": null,
            "visibility": null,
            "align_self": null,
            "height": null,
            "min_height": null,
            "padding": null,
            "grid_auto_rows": null,
            "grid_gap": null,
            "max_width": null,
            "order": null,
            "_view_module_version": "1.2.0",
            "grid_template_areas": null,
            "object_position": null,
            "object_fit": null,
            "grid_auto_columns": null,
            "margin": null,
            "display": null,
            "left": null
          }
        },
        "d50914d4b02d4a86b65753696b6436cc": {
          "model_module": "@jupyter-widgets/controls",
          "model_name": "FloatProgressModel",
          "state": {
            "_view_name": "ProgressView",
            "style": "IPY_MODEL_ecd8da03a2b3451fb3b9109fb2e269e6",
            "_dom_classes": [],
            "description": "",
            "_model_name": "FloatProgressModel",
            "bar_style": "success",
            "max": 1,
            "_view_module": "@jupyter-widgets/controls",
            "_model_module_version": "1.5.0",
            "value": 1,
            "_view_count": null,
            "_view_module_version": "1.5.0",
            "orientation": "horizontal",
            "min": 0,
            "description_tooltip": null,
            "_model_module": "@jupyter-widgets/controls",
            "layout": "IPY_MODEL_bb52d0f26e474773a120d577241c03c3"
          }
        },
        "3f3a015d467347f2aecbd6930e823c78": {
          "model_module": "@jupyter-widgets/controls",
          "model_name": "HTMLModel",
          "state": {
            "_view_name": "HTMLView",
            "style": "IPY_MODEL_e0f5406915f44bafb9149fbb58d736d8",
            "_dom_classes": [],
            "description": "",
            "_model_name": "HTMLModel",
            "placeholder": "​",
            "_view_module": "@jupyter-widgets/controls",
            "_model_module_version": "1.5.0",
            "value": " 170500096/? [00:05&lt;00:00, 33991101.58it/s]",
            "_view_count": null,
            "_view_module_version": "1.5.0",
            "description_tooltip": null,
            "_model_module": "@jupyter-widgets/controls",
            "layout": "IPY_MODEL_a12b410cf60c450a86e6e489ff78b40a"
          }
        },
        "ecd8da03a2b3451fb3b9109fb2e269e6": {
          "model_module": "@jupyter-widgets/controls",
          "model_name": "ProgressStyleModel",
          "state": {
            "_view_name": "StyleView",
            "_model_name": "ProgressStyleModel",
            "description_width": "initial",
            "_view_module": "@jupyter-widgets/base",
            "_model_module_version": "1.5.0",
            "_view_count": null,
            "_view_module_version": "1.2.0",
            "bar_color": null,
            "_model_module": "@jupyter-widgets/controls"
          }
        },
        "bb52d0f26e474773a120d577241c03c3": {
          "model_module": "@jupyter-widgets/base",
          "model_name": "LayoutModel",
          "state": {
            "_view_name": "LayoutView",
            "grid_template_rows": null,
            "right": null,
            "justify_content": null,
            "_view_module": "@jupyter-widgets/base",
            "overflow": null,
            "_model_module_version": "1.2.0",
            "_view_count": null,
            "flex_flow": null,
            "width": null,
            "min_width": null,
            "border": null,
            "align_items": null,
            "bottom": null,
            "_model_module": "@jupyter-widgets/base",
            "top": null,
            "grid_column": null,
            "overflow_y": null,
            "overflow_x": null,
            "grid_auto_flow": null,
            "grid_area": null,
            "grid_template_columns": null,
            "flex": null,
            "_model_name": "LayoutModel",
            "justify_items": null,
            "grid_row": null,
            "max_height": null,
            "align_content": null,
            "visibility": null,
            "align_self": null,
            "height": null,
            "min_height": null,
            "padding": null,
            "grid_auto_rows": null,
            "grid_gap": null,
            "max_width": null,
            "order": null,
            "_view_module_version": "1.2.0",
            "grid_template_areas": null,
            "object_position": null,
            "object_fit": null,
            "grid_auto_columns": null,
            "margin": null,
            "display": null,
            "left": null
          }
        },
        "e0f5406915f44bafb9149fbb58d736d8": {
          "model_module": "@jupyter-widgets/controls",
          "model_name": "DescriptionStyleModel",
          "state": {
            "_view_name": "StyleView",
            "_model_name": "DescriptionStyleModel",
            "description_width": "",
            "_view_module": "@jupyter-widgets/base",
            "_model_module_version": "1.5.0",
            "_view_count": null,
            "_view_module_version": "1.2.0",
            "_model_module": "@jupyter-widgets/controls"
          }
        },
        "a12b410cf60c450a86e6e489ff78b40a": {
          "model_module": "@jupyter-widgets/base",
          "model_name": "LayoutModel",
          "state": {
            "_view_name": "LayoutView",
            "grid_template_rows": null,
            "right": null,
            "justify_content": null,
            "_view_module": "@jupyter-widgets/base",
            "overflow": null,
            "_model_module_version": "1.2.0",
            "_view_count": null,
            "flex_flow": null,
            "width": null,
            "min_width": null,
            "border": null,
            "align_items": null,
            "bottom": null,
            "_model_module": "@jupyter-widgets/base",
            "top": null,
            "grid_column": null,
            "overflow_y": null,
            "overflow_x": null,
            "grid_auto_flow": null,
            "grid_area": null,
            "grid_template_columns": null,
            "flex": null,
            "_model_name": "LayoutModel",
            "justify_items": null,
            "grid_row": null,
            "max_height": null,
            "align_content": null,
            "visibility": null,
            "align_self": null,
            "height": null,
            "min_height": null,
            "padding": null,
            "grid_auto_rows": null,
            "grid_gap": null,
            "max_width": null,
            "order": null,
            "_view_module_version": "1.2.0",
            "grid_template_areas": null,
            "object_position": null,
            "object_fit": null,
            "grid_auto_columns": null,
            "margin": null,
            "display": null,
            "left": null
          }
        }
      }
    }
  },
  "cells": [
    {
      "cell_type": "markdown",
      "metadata": {
        "id": "view-in-github",
        "colab_type": "text"
      },
      "source": [
        "<a href=\"https://colab.research.google.com/github/HAMA-DL-dev/VML-internship/blob/master/Transfer_learning.ipynb\" target=\"_parent\"><img src=\"https://colab.research.google.com/assets/colab-badge.svg\" alt=\"Open In Colab\"/></a>"
      ]
    },
    {
      "cell_type": "code",
      "metadata": {
        "colab": {
          "base_uri": "https://localhost:8080/",
          "height": 121,
          "referenced_widgets": [
            "30490c18fb364715a246bee839bdd7ce",
            "3af111aa395649518ff0437eb776cf04",
            "d50914d4b02d4a86b65753696b6436cc",
            "3f3a015d467347f2aecbd6930e823c78",
            "ecd8da03a2b3451fb3b9109fb2e269e6",
            "bb52d0f26e474773a120d577241c03c3",
            "e0f5406915f44bafb9149fbb58d736d8",
            "a12b410cf60c450a86e6e489ff78b40a"
          ]
        },
        "id": "Sg1HjojPoSoK",
        "outputId": "b4f450f7-8d0a-4d01-da24-8589fc643f5b"
      },
      "source": [
        "import torch\n",
        "import torchvision\n",
        "import numpy as np\n",
        "import torch.nn as nn\n",
        "from torch.utils.data  import TensorDataset, DataLoader\n",
        "import torchvision.transforms as transforms\n",
        "import matplotlib.pyplot as plt\n",
        "device = 'cuda' if torch.cuda.is_available() else 'cpu'\n",
        "\n",
        "\n",
        "transform = transforms.Compose([transforms.ToTensor(),\n",
        "                                transforms.Normalize((0.5, 0.5, 0.5), (0.5, 0.5, 0.5)),\n",
        "                                transforms.RandomHorizontalFlip(),\n",
        "                                transforms.ColorJitter(brightness=0.2, contrast=0.2, saturation=0.2)\n",
        "                                ])\n",
        "train_dataset=torchvision.datasets.CIFAR10('.',train=True,transform=transform,download=True)\n",
        "test_dataset=torchvision.datasets.CIFAR10('.',train=False,transform=transform,download=True)\n",
        "\n",
        "\n",
        "\"\"\"\n",
        "Data Augmentation 의 종류\n",
        "1. RandomHorizontalFlip\n",
        "2. RandomRotation # 텐서변환 필요\n",
        "3. RandomAffine # 텐서변환 필요\n",
        "4. ColorJitter\n",
        "5. ToTens\n",
        "\"\"\""
      ],
      "execution_count": 1,
      "outputs": [
        {
          "output_type": "stream",
          "text": [
            "Downloading https://www.cs.toronto.edu/~kriz/cifar-10-python.tar.gz to ./cifar-10-python.tar.gz\n"
          ],
          "name": "stdout"
        },
        {
          "output_type": "display_data",
          "data": {
            "application/vnd.jupyter.widget-view+json": {
              "model_id": "30490c18fb364715a246bee839bdd7ce",
              "version_minor": 0,
              "version_major": 2
            },
            "text/plain": [
              "HBox(children=(FloatProgress(value=1.0, bar_style='info', max=1.0), HTML(value='')))"
            ]
          },
          "metadata": {
            "tags": []
          }
        },
        {
          "output_type": "stream",
          "text": [
            "Extracting ./cifar-10-python.tar.gz to .\n",
            "Files already downloaded and verified\n"
          ],
          "name": "stdout"
        },
        {
          "output_type": "execute_result",
          "data": {
            "application/vnd.google.colaboratory.intrinsic+json": {
              "type": "string"
            },
            "text/plain": [
              "'\\nData Augmentation 의 종류\\n1. RandomHorizontalFlip\\n2. RandomRotation # 텐서변환 필요\\n3. RandomAffine # 텐서변환 필요\\n4. ColorJitter\\n5. ToTens\\n'"
            ]
          },
          "metadata": {
            "tags": []
          },
          "execution_count": 1
        },
        {
          "output_type": "stream",
          "text": [
            "\n"
          ],
          "name": "stdout"
        }
      ]
    },
    {
      "cell_type": "code",
      "metadata": {
        "id": "Nuef5DmloZc2"
      },
      "source": [
        "class CNN_Cifar_10(nn.Module):\n",
        "  def __init__(self)  :\n",
        "    super(CNN_Cifar_10, self).__init__()\n",
        "    self.conv1 = nn.Conv2d(3, 64, 5)\n",
        "    self.conv2 = nn.Conv2d(64, 64, 5)\n",
        "    self.pool2 = nn.MaxPool2d( kernel_size=2, stride=2, padding=0)\n",
        "    self.conv3 = nn.Conv2d(64, 64, 3)\n",
        "    self.pool3 = nn.MaxPool2d( kernel_size=2, stride=2, padding=0)\n",
        "    self.fc1 = nn.Linear(64 * 5 * 5, 256)\n",
        "    self.fc2 = nn.Linear(256, 10)\n",
        "\n",
        "    \n",
        "  def forward(self, x):\n",
        "    relu1 = self.conv1(x).clamp(min=0)\n",
        "    relu2 = self.pool2(self.conv2(relu1).clamp(min=0))\n",
        "    relu3 = self.pool3(self.conv3(relu2).clamp(min=0))\n",
        "    x=relu3\n",
        "    x = x.reshape(-1, 64 * 5 * 5) #Flatting for input of Fully Connected\n",
        "    x = self.fc1(x).clamp(min=0)\n",
        "    x = self.fc2(x)\n",
        "    \n",
        "    return x"
      ],
      "execution_count": 2,
      "outputs": []
    },
    {
      "cell_type": "code",
      "metadata": {
        "id": "wWloN1U4odkO"
      },
      "source": [
        "epoch=[]\n",
        "losses=[]\n",
        "loader = DataLoader(train_dataset, batch_size = 256, shuffle=True )\n",
        "\n",
        "model=CNN_Cifar_10()\n",
        "model = model.to(device)\n",
        "criterion = nn.CrossEntropyLoss()\n",
        "optimizer= torch.optim.Adam(model.parameters(),lr=0.001)\n",
        "\n",
        "for t in range (300):\n",
        "  l=0\n",
        "  for x_batch, y_batch in loader:\n",
        "    x_batch, y_batch = x_batch.to(device), y_batch.to(device)\n",
        "    y_pred = model(x_batch)\n",
        "    loss = criterion(y_pred, y_batch)\n",
        "    loss.backward()\n",
        "    optimizer.step()\n",
        "    optimizer.zero_grad()\n",
        "    l+=loss\n",
        "  losses.append(l/len(loader))\n",
        "  epoch.append(t)"
      ],
      "execution_count": null,
      "outputs": []
    },
    {
      "cell_type": "code",
      "metadata": {
        "id": "TqxTcX6tohar"
      },
      "source": [
        "model=CNN_Cifar_10()\n",
        "\n",
        "\n",
        "model.conv1.requires_grad_(False)\n",
        "model.conv2.requires_grad_(False)\n",
        "model.conv3.requires_grad_(False)\n",
        "model.fc1.requires_grad_(True)\n",
        "model.fc2.requires_grad_(True)\n",
        "model.fc2 = nn.Linear(256, 5)\n",
        "model=model.to(device)\n",
        "\n",
        "transform_new = transforms.Compose([transforms.ToTensor(),transforms.Normalize((0.5, 0.5, 0.5), (0.5, 0.5, 0.5))])\n",
        "train_c100=torchvision.datasets.CIFAR100('.',train=True,transform=transform_new,download=True)\n",
        "#load train dataset of CIFAR100"
      ],
      "execution_count": null,
      "outputs": []
    },
    {
      "cell_type": "code",
      "metadata": {
        "id": "BQp_IyQlqoq9"
      },
      "source": [
        "train_c100_data=np.ones((2500,32,32,3), dtype=np.uint8)\n",
        "train_c100_tag=[]\n",
        "j=0\n",
        "x=train_c100.data\n",
        "y=train_c100.targets\n",
        "\n",
        "\n",
        "for k in range(len(x)):\n",
        "  if y[k] == 8:\n",
        "    train_c100_tag.append(0)\n",
        "    train_c100_data[j] = x[k]\n",
        "    j = j+1\n",
        "  \n",
        "  if y[k] == 13:\n",
        "    train_c100_tag.append(1)\n",
        "    train_c100_data[j] = x[k]\n",
        "    j = j+1\n",
        "\n",
        "  if y[k] == 30:\n",
        "    train_c100_tag.append(2)\n",
        "    train_c100_data[j] = x[k]\n",
        "    j = j+1\n",
        "  \n",
        "  if y[k] == 49:\n",
        "    train_c100_tag.append(3)\n",
        "    train_c100_data[j] = x[k]\n",
        "    j = j+1 \n",
        "\n",
        "  if y[k] == 84:\n",
        "    train_c100_tag.append(4)\n",
        "    train_c100_data[j] = x[k]\n",
        "    j = j+1"
      ],
      "execution_count": null,
      "outputs": []
    },
    {
      "cell_type": "code",
      "metadata": {
        "id": "-IAKQvcIqwDT"
      },
      "source": [
        "train_c100_tag = torch.tensor(train_c100_tag, dtype=torch.long)\n",
        "train_c100_data = torch.tensor(train_c100_data,dtype=torch.float)\n",
        "train_loader = DataLoader(TensorDataset(train_c100_data, train_c100_tag), batch_size = 128,shuffle=True)\n",
        "\n",
        "transform_new = transforms.Compose([transforms.ToTensor(),transforms.Normalize((0.5, 0.5, 0.5), (0.5, 0.5, 0.5))])\n",
        "test_c100=torchvision.datasets.CIFAR100('.',train=False,transform=transform_new,download=True)\n",
        "#load test dataset of CIFAR100\n",
        "\n",
        "test_c100_data=np.ones((500,32,32,3), dtype=np.uint8)\n",
        "test_c100_tag=[]\n",
        "l=0\n",
        "z=test_c100.data\n",
        "t=test_c100.targets"
      ],
      "execution_count": null,
      "outputs": []
    },
    {
      "cell_type": "code",
      "metadata": {
        "id": "eejc3RFwq-Nj"
      },
      "source": [
        "for n in range(len(z)):\n",
        "  if t[n] == 8:\n",
        "    test_c100_tag.append(0)\n",
        "    test_c100_data[l] = z[n]\n",
        "    l = l+1\n",
        " \n",
        "  if t[n] == 13:\n",
        "    test_c100_tag.append(1)\n",
        "    test_c100_data[l] = z[n]\n",
        "    l = l+1\n",
        " \n",
        "  if t[n] == 30:\n",
        "    test_c100_tag.append(2)\n",
        "    test_c100_data[l] = z[n]\n",
        "    l = l+1\n",
        " \n",
        "  if t[n] == 49:\n",
        "    test_c100_tag.append(3)\n",
        "    test_c100_data[l] = z[n]\n",
        "    l = l+1\n",
        " \n",
        "  if t[n] == 84:\n",
        "    test_c100_tag.append(4)\n",
        "    test_c100_data[l] = z[n]\n",
        "    l = l+1\n",
        " \n",
        "test_c100_tag = torch.tensor(test_c100_tag, dtype=torch.long)\n",
        "test_c100_data = torch.tensor(test_c100_data,dtype=torch.float)\n",
        "test_loader = DataLoader(TensorDataset(test_c100_data, test_c100_tag), batch_size = 128,shuffle=True)\n",
        "\n",
        "\"\"\"Train modified model with five classes dataset\"\"\""
      ],
      "execution_count": null,
      "outputs": []
    },
    {
      "cell_type": "code",
      "metadata": {
        "id": "xamB6mDvrICp"
      },
      "source": [
        "epoch=[]\n",
        "losses=[]\n",
        "accur=[]\n",
        "criterion = nn.CrossEntropyLoss()\n",
        "optimizer= torch.optim.Adam(model.parameters(),lr=0.001)"
      ],
      "execution_count": null,
      "outputs": []
    },
    {
      "cell_type": "code",
      "metadata": {
        "id": "a03xluzurkDo"
      },
      "source": [
        "for t in range (300):\n",
        "  l2=0\n",
        "  correct2 = 0\n",
        "  total2 = 0\n",
        "  for x_b, y_b in train_loader:\n",
        "    x_b, y_b = x_b.to(device), y_b.to(device)\n",
        "    y_p = model(x_b.permute(0,3,1,2))\n",
        "    loss2 = criterion(y_p, y_b)\n",
        "    loss2.backward()\n",
        "    optimizer.step()\n",
        "    optimizer.zero_grad()\n",
        "    l2+=loss2\n",
        "  losses.append(l2/len(train_loader))\n",
        "  print(\"LOSSSS\",l2/len(train_loader))\n",
        "  epoch.append(t)\n",
        "\n",
        "  #Test:\n",
        "  with torch.no_grad():\n",
        "    for x_, y_ in test_loader :\n",
        "        x_, y_ = x_.to(device), y_.to(device)\n",
        "        y_prediction = model(x_.permute(0,3,1,2))\n",
        "        _ ,y_prediction = y_prediction.max(1)\n",
        "        total2 += y_.size(0)\n",
        "        correct2 += (y_prediction == y_).sum().item()\n",
        "\n",
        "  print('Accuracy of the CNN on the CIFAR100 test images: %d %%' % (\n",
        "    100 * correct2 / total2))\n",
        "  accur.append(100 * correct2 / total2)"
      ],
      "execution_count": null,
      "outputs": []
    },
    {
      "cell_type": "code",
      "metadata": {
        "id": "D4euLH6nrmaG"
      },
      "source": [
        "plt.plot(epoch, accur, 'r*')  \n",
        "plt.xlabel(\"Epoch\")\n",
        "plt.ylabel(\"Accuracy\")\n"
      ],
      "execution_count": null,
      "outputs": []
    }
  ]
}